{
 "cells": [
  {
   "cell_type": "markdown",
   "metadata": {},
   "source": [
    "# Libraries"
   ]
  },
  {
   "cell_type": "code",
   "execution_count": 20,
   "metadata": {},
   "outputs": [],
   "source": [
    "import pandas as pd\n",
    "import keras\n",
    "from keras import layers\n",
    "from sklearn.model_selection import train_test_split"
   ]
  },
  {
   "cell_type": "code",
   "execution_count": 21,
   "metadata": {},
   "outputs": [],
   "source": [
    "df = pd.read_csv('../../data/df_yearly_prices.csv')"
   ]
  },
  {
   "cell_type": "code",
   "execution_count": 22,
   "metadata": {},
   "outputs": [],
   "source": [
    "df = df.drop(['percentage', 'datetime'], axis = 1 )"
   ]
  },
  {
   "cell_type": "markdown",
   "metadata": {},
   "source": [
    "# The Neural Network"
   ]
  },
  {
   "cell_type": "code",
   "execution_count": 23,
   "metadata": {},
   "outputs": [],
   "source": [
    "df = df['value']"
   ]
  },
  {
   "cell_type": "code",
   "execution_count": 24,
   "metadata": {},
   "outputs": [],
   "source": [
    "# Split the data into train and test sets\n",
    "X_train, X_test, y_train, y_test = train_test_split(df, df, train_size=0.8, test_size=0.2, random_state=42)"
   ]
  },
  {
   "cell_type": "code",
   "execution_count": 25,
   "metadata": {},
   "outputs": [],
   "source": [
    "# Create a neural network\n",
    "\n",
    "model = keras.Sequential([\n",
    "    layers.Dense(50, activation='relu', input_shape=(1,)),\n",
    "    layers.Dense(1)\n",
    "])"
   ]
  },
  {
   "cell_type": "code",
   "execution_count": 26,
   "metadata": {},
   "outputs": [],
   "source": [
    "# Compile the model\n",
    "\n",
    "model.compile(optimizer = 'adam', loss = 'mse', metrics = 'mae')"
   ]
  },
  {
   "cell_type": "code",
   "execution_count": 27,
   "metadata": {},
   "outputs": [
    {
     "name": "stdout",
     "output_type": "stream",
     "text": [
      "Epoch 1/5\n"
     ]
    },
    {
     "name": "stdout",
     "output_type": "stream",
     "text": [
      "214/214 [==============================] - 1s 3ms/step - loss: 14084.3604 - mae: 93.5506 - val_loss: 331.3610 - val_mae: 16.6001\n",
      "Epoch 2/5\n",
      "214/214 [==============================] - 0s 2ms/step - loss: 34.8203 - mae: 3.2546 - val_loss: 0.0986 - val_mae: 0.2450\n",
      "Epoch 3/5\n",
      "214/214 [==============================] - 0s 2ms/step - loss: 0.0926 - mae: 0.2422 - val_loss: 0.0970 - val_mae: 0.2456\n",
      "Epoch 4/5\n",
      "214/214 [==============================] - 0s 2ms/step - loss: 0.0919 - mae: 0.2414 - val_loss: 0.0961 - val_mae: 0.2446\n",
      "Epoch 5/5\n",
      "214/214 [==============================] - 0s 2ms/step - loss: 0.0910 - mae: 0.2400 - val_loss: 0.0951 - val_mae: 0.2435\n"
     ]
    },
    {
     "data": {
      "text/plain": [
       "<keras.src.callbacks.History at 0x1d3d3766790>"
      ]
     },
     "execution_count": 27,
     "metadata": {},
     "output_type": "execute_result"
    }
   ],
   "source": [
    "# Fit the model\n",
    "\n",
    "model.fit(X_train, y_train, epochs = 5, batch_size = 32, validation_split = 0.2, validation_data=(X_test, y_test))"
   ]
  },
  {
   "cell_type": "code",
   "execution_count": 28,
   "metadata": {},
   "outputs": [
    {
     "name": "stdout",
     "output_type": "stream",
     "text": [
      "54/54 [==============================] - 0s 1ms/step\n"
     ]
    },
    {
     "data": {
      "text/plain": [
       "array([[138.76474],\n",
       "       [301.75806],\n",
       "       [102.16223],\n",
       "       ...,\n",
       "       [110.56836],\n",
       "       [169.19217],\n",
       "       [139.29263]], dtype=float32)"
      ]
     },
     "execution_count": 28,
     "metadata": {},
     "output_type": "execute_result"
    }
   ],
   "source": [
    "# Evaluate the model\n",
    "\n",
    "model.predict(X_test)"
   ]
  },
  {
   "cell_type": "code",
   "execution_count": 29,
   "metadata": {},
   "outputs": [],
   "source": [
    "model.save('model.keras')"
   ]
  },
  {
   "cell_type": "code",
   "execution_count": 30,
   "metadata": {},
   "outputs": [
    {
     "data": {
      "text/plain": [
       "\"import boto3\\n\\ns3 = boto3.client('s3', region_name='eu-north-1')\\nbucket = 'energy.aup'\\n\\ns3.upload_file(r'../../data/model/model.keras', bucket, 'model.keras')\""
      ]
     },
     "execution_count": 30,
     "metadata": {},
     "output_type": "execute_result"
    }
   ],
   "source": [
    "'''import boto3\n",
    "\n",
    "s3 = boto3.client('s3', region_name='eu-north-1')\n",
    "bucket = 'energy.aup'\n",
    "\n",
    "s3.upload_file(r'../../data/model/model.keras', bucket, 'model.keras')'''"
   ]
  },
  {
   "cell_type": "markdown",
   "metadata": {},
   "source": [
    "1. Descargar datos de la api para cada dia y subirlos a S3\n",
    "2. Crear base de datos y agregar information\n",
    "    - por horas, por dias"
   ]
  }
 ],
 "metadata": {
  "kernelspec": {
   "display_name": "base",
   "language": "python",
   "name": "python3"
  },
  "language_info": {
   "codemirror_mode": {
    "name": "ipython",
    "version": 3
   },
   "file_extension": ".py",
   "mimetype": "text/x-python",
   "name": "python",
   "nbconvert_exporter": "python",
   "pygments_lexer": "ipython3",
   "version": "3.11.4"
  },
  "orig_nbformat": 4
 },
 "nbformat": 4,
 "nbformat_minor": 2
}
