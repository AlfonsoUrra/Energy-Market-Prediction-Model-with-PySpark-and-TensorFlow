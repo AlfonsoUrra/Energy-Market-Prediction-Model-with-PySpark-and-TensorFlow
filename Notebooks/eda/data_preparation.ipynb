{
 "cells": [
  {
   "cell_type": "code",
   "execution_count": 1,
   "metadata": {},
   "outputs": [],
   "source": [
    "import pandas as pd\n",
    "import numpy as np"
   ]
  },
  {
   "cell_type": "code",
   "execution_count": 2,
   "metadata": {},
   "outputs": [],
   "source": [
    "df_merge = pd.read_csv('../../data/df_merge_final.csv')"
   ]
  },
  {
   "cell_type": "code",
   "execution_count": 3,
   "metadata": {},
   "outputs": [],
   "source": [
    "df_merge['datetime'] = pd.to_datetime(df_merge['datetime'])\n",
    "df_merge['datetime'] = df_merge['datetime'].dt.tz_localize(None)"
   ]
  },
  {
   "cell_type": "code",
   "execution_count": 6,
   "metadata": {},
   "outputs": [],
   "source": [
    "# transform datetime column into hour, day, month, year,\n",
    "df_merge['hour'] = df_merge['datetime'].dt.hour\n",
    "df_merge['day'] = df_merge['datetime'].dt.day\n",
    "df_merge['month'] = df_merge['datetime'].dt.month\n",
    "df_merge['year'] = df_merge['datetime'].dt.year\n",
    "df_merge['day_of_week'] = df_merge['datetime'].dt.dayofweek.apply(lambda x: 1 if x >= 5 else 0)\n"
   ]
  },
  {
   "cell_type": "code",
   "execution_count": 11,
   "metadata": {},
   "outputs": [],
   "source": [
    "from sklearn.preprocessing import MinMaxScaler\n",
    "\n",
    "# Crea una instancia del MinMaxScaler\n",
    "scaler = MinMaxScaler()\n",
    "\n",
    "# Selecciona las columnas que deseas normalizar (por ejemplo, todas las columnas numéricas)\n",
    "columns_to_normalize = ['value', 'Ciclo combinado', 'Carbón', 'Otras renovables', 'prog_de',\n",
    "                         'exp_de', 'real_de', 'Residuos no renovables', 'Cogeneración',\n",
    "                           'hour', 'month', 'portugal', 'Hidráulica', 'Residuos renovables',\n",
    "                             'Generación total', 'marruecos', 'Nuclear', 'francia', 'day',\n",
    "                               'Solar térmica', 'Solar fotovoltaica', 'year', 'Eólica', 'day_of_week',\n",
    "                                 'Turbinación bombeo']\n",
    "\n",
    "# Aplica la normalización Min-Max a las columnas seleccionadas\n",
    "df_merge[columns_to_normalize] = scaler.fit_transform(df_merge[columns_to_normalize])\n",
    "\n"
   ]
  },
  {
   "cell_type": "code",
   "execution_count": 13,
   "metadata": {},
   "outputs": [],
   "source": [
    "df_merge.to_csv('../../data/df_merge_final_normalize.csv', index=False)"
   ]
  },
  {
   "cell_type": "code",
   "execution_count": null,
   "metadata": {},
   "outputs": [],
   "source": []
  }
 ],
 "metadata": {
  "kernelspec": {
   "display_name": "base",
   "language": "python",
   "name": "python3"
  },
  "language_info": {
   "codemirror_mode": {
    "name": "ipython",
    "version": 3
   },
   "file_extension": ".py",
   "mimetype": "text/x-python",
   "name": "python",
   "nbconvert_exporter": "python",
   "pygments_lexer": "ipython3",
   "version": "3.11.4"
  }
 },
 "nbformat": 4,
 "nbformat_minor": 2
}
