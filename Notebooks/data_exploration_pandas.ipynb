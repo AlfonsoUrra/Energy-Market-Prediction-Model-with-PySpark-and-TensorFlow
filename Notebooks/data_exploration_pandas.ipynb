{
 "cells": [
  {
   "cell_type": "markdown",
   "metadata": {},
   "source": [
    "#### Libraries"
   ]
  },
  {
   "cell_type": "code",
   "execution_count": 3,
   "metadata": {},
   "outputs": [],
   "source": [
    "import pandas as pd\n",
    "import requests\n",
    "import calendar\n"
   ]
  },
  {
   "cell_type": "markdown",
   "metadata": {},
   "source": [
    "#### Calling the API and create Dataframes with Pandas"
   ]
  },
  {
   "cell_type": "code",
   "execution_count": 4,
   "metadata": {},
   "outputs": [],
   "source": [
    "# Define the mapping of month names\n",
    "months= {\n",
    "    1: 'January',\n",
    "    2: 'February',\n",
    "    3: 'March',\n",
    "    4: 'April',\n",
    "    5: 'May',\n",
    "    6: 'June',\n",
    "    7: 'July',\n",
    "    8: 'August',\n",
    "    9: 'September',\n",
    "    10: 'October',\n",
    "    11: 'November',\n",
    "    12: 'December'\n",
    "}\n",
    "\n",
    "# Define the base URL\n",
    "base_url = 'https://apidatos.ree.es/es/datos/mercados/precios-mercados-tiempo-real?'\n",
    "\n",
    "# Define common parameters\n",
    "params = {\n",
    "    'time_trunc': 'hour',\n",
    "    'geo_limit': 'peninsular',\n",
    "    'geo_ids': '8741'\n",
    "}\n",
    "\n",
    "# Initialize a list to store the DataFrames of prices for each month\n",
    "dfs_monthly_prices = []\n",
    "\n",
    "# Iterate through the months of the year 2022  / Get the last day of the current month\n",
    "\n",
    "for month in range(1, 13):\n",
    "    last_day = calendar.monthrange(2022, month)[1]\n",
    "\n",
    "    # Define the start and end dates for each month\n",
    "    start_date = f'2022-{month:02d}-01T00:00'\n",
    "    end_date = f'2022-{month:02d}-{last_day:02d}T23:59'\n",
    "\n",
    "    # Add the dates to the parameters\n",
    "    params['start_date'] = start_date\n",
    "    params['end_date'] = end_date\n",
    "\n",
    "    # Make the HTTP request\n",
    "    response = requests.get(base_url, params=params)\n",
    "    data = response.json()\n",
    "\n",
    "    # Extract the price data for the current month\n",
    "    monthly_prices = data['included'][0]['attributes']['values']\n",
    "\n",
    "    # Create a DataFrame for the current month and add it to the list\n",
    "    df_month = pd.DataFrame(monthly_prices)\n",
    "    dfs_monthly_prices.append(df_month)\n",
    "\n",
    "    # Name the DataFrame with the month name in English\n",
    "    month_name = months[month]\n",
    "    globals()[f'df_prices_{month_name}'] = df_month\n",
    "\n",
    "# Concatenate all the DataFrames into one for the entire year\n",
    "df_yearly_prices = pd.concat(dfs_monthly_prices, ignore_index=True)"
   ]
  },
  {
   "cell_type": "code",
   "execution_count": 5,
   "metadata": {},
   "outputs": [
    {
     "data": {
      "text/html": [
       "<div>\n",
       "<style scoped>\n",
       "    .dataframe tbody tr th:only-of-type {\n",
       "        vertical-align: middle;\n",
       "    }\n",
       "\n",
       "    .dataframe tbody tr th {\n",
       "        vertical-align: top;\n",
       "    }\n",
       "\n",
       "    .dataframe thead th {\n",
       "        text-align: right;\n",
       "    }\n",
       "</style>\n",
       "<table border=\"1\" class=\"dataframe\">\n",
       "  <thead>\n",
       "    <tr style=\"text-align: right;\">\n",
       "      <th></th>\n",
       "      <th>value</th>\n",
       "      <th>percentage</th>\n",
       "      <th>datetime</th>\n",
       "    </tr>\n",
       "  </thead>\n",
       "  <tbody>\n",
       "    <tr>\n",
       "      <th>0</th>\n",
       "      <td>204.51</td>\n",
       "      <td>1</td>\n",
       "      <td>2022-01-01T00:00:00.000+01:00</td>\n",
       "    </tr>\n",
       "    <tr>\n",
       "      <th>1</th>\n",
       "      <td>171.35</td>\n",
       "      <td>1</td>\n",
       "      <td>2022-01-01T01:00:00.000+01:00</td>\n",
       "    </tr>\n",
       "    <tr>\n",
       "      <th>2</th>\n",
       "      <td>172.70</td>\n",
       "      <td>1</td>\n",
       "      <td>2022-01-01T02:00:00.000+01:00</td>\n",
       "    </tr>\n",
       "    <tr>\n",
       "      <th>3</th>\n",
       "      <td>156.07</td>\n",
       "      <td>1</td>\n",
       "      <td>2022-01-01T03:00:00.000+01:00</td>\n",
       "    </tr>\n",
       "    <tr>\n",
       "      <th>4</th>\n",
       "      <td>159.08</td>\n",
       "      <td>1</td>\n",
       "      <td>2022-01-01T04:00:00.000+01:00</td>\n",
       "    </tr>\n",
       "  </tbody>\n",
       "</table>\n",
       "</div>"
      ],
      "text/plain": [
       "    value  percentage                       datetime\n",
       "0  204.51           1  2022-01-01T00:00:00.000+01:00\n",
       "1  171.35           1  2022-01-01T01:00:00.000+01:00\n",
       "2  172.70           1  2022-01-01T02:00:00.000+01:00\n",
       "3  156.07           1  2022-01-01T03:00:00.000+01:00\n",
       "4  159.08           1  2022-01-01T04:00:00.000+01:00"
      ]
     },
     "execution_count": 5,
     "metadata": {},
     "output_type": "execute_result"
    }
   ],
   "source": [
    "df_yearly_prices.head()"
   ]
  },
  {
   "cell_type": "code",
   "execution_count": null,
   "metadata": {},
   "outputs": [],
   "source": []
  }
 ],
 "metadata": {
  "kernelspec": {
   "display_name": "base",
   "language": "python",
   "name": "python3"
  },
  "language_info": {
   "codemirror_mode": {
    "name": "ipython",
    "version": 3
   },
   "file_extension": ".py",
   "mimetype": "text/x-python",
   "name": "python",
   "nbconvert_exporter": "python",
   "pygments_lexer": "ipython3",
   "version": "3.11.4"
  },
  "orig_nbformat": 4
 },
 "nbformat": 4,
 "nbformat_minor": 2
}
