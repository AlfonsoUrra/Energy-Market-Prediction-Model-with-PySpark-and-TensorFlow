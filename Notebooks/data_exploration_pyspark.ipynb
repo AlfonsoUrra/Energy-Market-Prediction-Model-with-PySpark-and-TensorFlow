{
 "cells": [
  {
   "cell_type": "markdown",
   "metadata": {},
   "source": [
    "# Libraries"
   ]
  },
  {
   "cell_type": "code",
   "execution_count": 2,
   "metadata": {},
   "outputs": [],
   "source": [
    "import os\n",
    "import sys\n",
    "os.environ['PYSPARK_DRIVER_PYTHON_OPTS']= \"notebook\"\n",
    "os.environ['PYSPARK_DRIVER_PYTHON'] = sys.executable\n",
    "os.environ['PYSPARK_PYTHON'] = sys.executable\n",
    "from pyspark.sql import SparkSession, DataFrame\n",
    "import requests\n",
    "import calendar\n",
    "from pyspark.sql.types import StructType, StructField, DoubleType, StringType, TimestampType, IntegerType\n",
    "from pyspark.sql.functions import col, unix_timestamp\n",
    "from functools import reduce"
   ]
  },
  {
   "cell_type": "markdown",
   "metadata": {},
   "source": [
    "#### Calling the Api and create Dataframe with pyspark"
   ]
  },
  {
   "cell_type": "code",
   "execution_count": 3,
   "metadata": {},
   "outputs": [],
   "source": [
    "# create spark session \n",
    "spark = SparkSession.builder.appName('data_exploration').getOrCreate()"
   ]
  },
  {
   "cell_type": "code",
   "execution_count": null,
   "metadata": {},
   "outputs": [],
   "source": [
    "# Define the mapping of month names\n",
    "months= {\n",
    "    1: 'January',\n",
    "    2: 'February',\n",
    "    3: 'March',\n",
    "    4: 'April',\n",
    "    5: 'May',\n",
    "    6: 'June',\n",
    "    7: 'July',\n",
    "    8: 'August',\n",
    "    9: 'September',\n",
    "    10: 'October',\n",
    "    11: 'November',\n",
    "    12: 'December'\n",
    "}\n",
    "\n",
    "\n",
    "# Define a list for the DataFrames of the monthly prices\n",
    "dfs_monthly_prices = []\n",
    "\n",
    "# Define the parameters for the API request\n",
    "params = {\n",
    "    'time_trunc': 'hour',\n",
    "    'geo_limit': 'peninsular',\n",
    "    'geo_ids': '8741'\n",
    "}\n",
    "\n",
    "# Define the base URL for the API request\n",
    "base_url = 'https://apidatos.ree.es/es/datos/mercados/precios-mercados-tiempo-real?'\n",
    "\n",
    "# Iterate through the months of the year 2022\n",
    "for month in range(1, 13):  # 1 to 12 for January to December\n",
    "    # Get the last day of the current month\n",
    "    last_day = calendar.monthrange(2022, month)[1]\n",
    "\n",
    "    # Define the start and end dates for each month\n",
    "    start_date = f'2022-{month:02d}-01T00:00'\n",
    "    end_date = f'2022-{month:02d}-{last_day:02d}T23:59'\n",
    "\n",
    "    # Add the dates to the parameters\n",
    "    params['start_date'] = start_date\n",
    "    params['end_date'] = end_date\n",
    "\n",
    "    # Make the HTTP request\n",
    "    response = requests.get(base_url, params=params)\n",
    "    data = response.json()\n",
    "\n",
    "    # Extract the price data for the current month\n",
    "    df_monthly_prices = data['included'][0]['attributes']['values']\n",
    "\n",
    "    # Define the schema for the DataFrame\n",
    "    schema = StructType([\n",
    "        StructField(\"value\", StringType(), True),\n",
    "        StructField(\"percentage\", StringType(), True),\n",
    "        StructField(\"datetime\", StringType(), True)\n",
    "    ])\n",
    "\n",
    "    # Create the DataFrame for the current month\n",
    "    df = spark.createDataFrame(df_monthly_prices, schema=schema)\n",
    "\n",
    "    # Convert the datatypes of the columns\n",
    "    df = df.withColumn(\"value\", col(\"value\").cast(DoubleType()))\n",
    "    df = df.withColumn(\"percentage\", col(\"percentage\").cast(IntegerType()))\n",
    "    df = df.withColumn(\"datetime\", unix_timestamp(col(\"datetime\"), \"yyyy-MM-dd'T'HH:mm:ss.SSSXXX\").cast(TimestampType()))\n",
    "\n",
    "    # Add the DataFrame of the current month to the list\n",
    "    dfs_monthly_prices.append(df)\n",
    "\n",
    "    # Name the DataFrame with the month name in English\n",
    "    month_name = months[month]\n",
    "    globals()[f'df_prices_{month_name}'] = df\n",
    "\n",
    "\n",
    "# Concatena todos los DataFrames en uno solo\n",
    "df_yearly_prices = reduce(DataFrame.union, dfs_monthly_prices)\n",
    "\n",
    "\n",
    "\n"
   ]
  },
  {
   "cell_type": "code",
   "execution_count": 5,
   "metadata": {},
   "outputs": [
    {
     "name": "stdout",
     "output_type": "stream",
     "text": [
      "+------+----------+-------------------+\n",
      "| value|percentage|           datetime|\n",
      "+------+----------+-------------------+\n",
      "|204.51|         1|2022-01-01 00:00:00|\n",
      "|171.35|         1|2022-01-01 01:00:00|\n",
      "| 172.7|         1|2022-01-01 02:00:00|\n",
      "|156.07|         1|2022-01-01 03:00:00|\n",
      "|159.08|         1|2022-01-01 04:00:00|\n",
      "+------+----------+-------------------+\n",
      "only showing top 5 rows\n",
      "\n"
     ]
    }
   ],
   "source": [
    "df_yearly_prices.show(5)\n"
   ]
  },
  {
   "cell_type": "code",
   "execution_count": null,
   "metadata": {},
   "outputs": [],
   "source": []
  }
 ],
 "metadata": {
  "kernelspec": {
   "display_name": "base",
   "language": "python",
   "name": "python3"
  },
  "language_info": {
   "codemirror_mode": {
    "name": "ipython",
    "version": 3
   },
   "file_extension": ".py",
   "mimetype": "text/x-python",
   "name": "python",
   "nbconvert_exporter": "python",
   "pygments_lexer": "ipython3",
   "version": "3.11.4"
  },
  "orig_nbformat": 4
 },
 "nbformat": 4,
 "nbformat_minor": 2
}
