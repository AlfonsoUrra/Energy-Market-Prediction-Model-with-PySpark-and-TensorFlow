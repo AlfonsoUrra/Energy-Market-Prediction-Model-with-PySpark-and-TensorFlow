{
 "cells": [
  {
   "cell_type": "markdown",
   "metadata": {},
   "source": [
    "# Libraries"
   ]
  },
  {
   "cell_type": "code",
   "execution_count": 1,
   "metadata": {},
   "outputs": [
    {
     "name": "stdout",
     "output_type": "stream",
     "text": [
      "Requirement already satisfied: pyspark in c:\\users\\usuario\\anaconda3\\lib\\site-packages (3.4.1)\n",
      "Requirement already satisfied: py4j==0.10.9.7 in c:\\users\\usuario\\anaconda3\\lib\\site-packages (from pyspark) (0.10.9.7)\n",
      "Note: you may need to restart the kernel to use updated packages.\n"
     ]
    }
   ],
   "source": [
    "%pip install pyspark"
   ]
  },
  {
   "cell_type": "code",
   "execution_count": 2,
   "metadata": {},
   "outputs": [],
   "source": [
    "import os\n",
    "import sys\n",
    "os.environ['PYSPARK_DRIVER_PYTHON_OPTS']= \"notebook\"\n",
    "os.environ['PYSPARK_DRIVER_PYTHON'] = sys.executable\n",
    "os.environ['PYSPARK_PYTHON'] = sys.executable\n",
    "from pyspark.sql import SparkSession, DataFrame\n",
    "import requests\n",
    "import calendar\n",
    "from pyspark.sql.types import StructType, StructField, DoubleType, StringType, TimestampType, IntegerType\n",
    "from pyspark.sql.functions import col, unix_timestamp\n",
    "from functools import reduce\n",
    "from pyspark.sql.functions import count, when, isnull, countDistinct\n",
    "from pyspark.sql import functions as F\n",
    "from pyspark.sql.window import Window\n",
    "\n",
    "\n",
    "\n"
   ]
  },
  {
   "cell_type": "markdown",
   "metadata": {},
   "source": [
    "#### Calling the Api and create Dataframe with pyspark"
   ]
  },
  {
   "cell_type": "code",
   "execution_count": 3,
   "metadata": {},
   "outputs": [],
   "source": [
    "# create spark session \n",
    "spark = SparkSession.builder.appName('data_exploration').getOrCreate()"
   ]
  },
  {
   "cell_type": "code",
   "execution_count": 4,
   "metadata": {},
   "outputs": [],
   "source": [
    "# Define the mapping of month names\n",
    "months= {\n",
    "    1: 'January',\n",
    "    2: 'February',\n",
    "    3: 'March',\n",
    "    4: 'April',\n",
    "    5: 'May',\n",
    "    6: 'June',\n",
    "    7: 'July',\n",
    "    8: 'August',\n",
    "    9: 'September',\n",
    "    10: 'October',\n",
    "    11: 'November',\n",
    "    12: 'December'\n",
    "}\n",
    "\n",
    "\n",
    "# Define a list for the DataFrames of the monthly prices\n",
    "dfs_monthly_prices = []\n",
    "\n",
    "# Define the parameters for the API request\n",
    "params = {\n",
    "    'time_trunc': 'hour',\n",
    "    'geo_limit': 'peninsular',\n",
    "    'geo_ids': '8741'\n",
    "}\n",
    "\n",
    "# Define the base URL for the API request\n",
    "base_url = 'https://apidatos.ree.es/es/datos/mercados/precios-mercados-tiempo-real?'\n",
    "\n",
    "# Iterate through the months of the year 2022\n",
    "for month in range(1, 13):  # 1 to 12 for January to December\n",
    "    # Get the last day of the current month\n",
    "    last_day = calendar.monthrange(2022, month)[1]\n",
    "\n",
    "    # Define the start and end dates for each month\n",
    "    start_date = f'2022-{month:02d}-01T00:00'\n",
    "    end_date = f'2022-{month:02d}-{last_day:02d}T23:59'\n",
    "\n",
    "    # Add the dates to the parameters\n",
    "    params['start_date'] = start_date\n",
    "    params['end_date'] = end_date\n",
    "\n",
    "    # Make the HTTP request\n",
    "    response = requests.get(base_url, params=params)\n",
    "    data = response.json()\n",
    "\n",
    "    # Extract the price data for the current month\n",
    "    df_monthly_prices = data['included'][0]['attributes']['values']\n",
    "\n",
    "    # Define the schema for the DataFrame\n",
    "    schema = StructType([\n",
    "        StructField(\"value\", StringType(), True),\n",
    "        StructField(\"percentage\", StringType(), True),\n",
    "        StructField(\"datetime\", StringType(), True)\n",
    "    ])\n",
    "\n",
    "    # Create the DataFrame for the current month\n",
    "    df = spark.createDataFrame(df_monthly_prices, schema=schema)\n",
    "\n",
    "    # Convert the datatypes of the columns\n",
    "    df = df.withColumn(\"value\", col(\"value\").cast(DoubleType()))\n",
    "    df = df.withColumn(\"percentage\", col(\"percentage\").cast(IntegerType()))\n",
    "    df = df.withColumn(\"datetime\", unix_timestamp(col(\"datetime\"), \"yyyy-MM-dd'T'HH:mm:ss.SSSXXX\").cast(TimestampType()))\n",
    "\n",
    "    # Add the DataFrame of the current month to the list\n",
    "    dfs_monthly_prices.append(df)\n",
    "\n",
    "    # Name the DataFrame with the month name in English\n",
    "    month_name = months[month]\n",
    "    globals()[f'df_prices_{month_name}'] = df\n",
    "\n",
    "\n",
    "# Concatena todos los DataFrames en uno solo\n",
    "df_yearly_prices = reduce(DataFrame.union, dfs_monthly_prices)\n",
    "\n",
    "# make global the df_yearly_prices\n",
    "globals()['df_yearly_prices'] = df_yearly_prices\n",
    "\n",
    "\n",
    "\n",
    "\n"
   ]
  },
  {
   "cell_type": "code",
   "execution_count": 5,
   "metadata": {},
   "outputs": [
    {
     "name": "stdout",
     "output_type": "stream",
     "text": [
      "+------+----------+-------------------+\n",
      "| value|percentage|           datetime|\n",
      "+------+----------+-------------------+\n",
      "|204.51|         1|2022-01-01 00:00:00|\n",
      "|171.35|         1|2022-01-01 01:00:00|\n",
      "| 172.7|         1|2022-01-01 02:00:00|\n",
      "|156.07|         1|2022-01-01 03:00:00|\n",
      "|159.08|         1|2022-01-01 04:00:00|\n",
      "+------+----------+-------------------+\n",
      "only showing top 5 rows\n",
      "\n"
     ]
    }
   ],
   "source": [
    "df_yearly_prices.show(5)\n"
   ]
  },
  {
   "cell_type": "markdown",
   "metadata": {},
   "source": [
    "#### Exploratory Analysis\n"
   ]
  },
  {
   "cell_type": "code",
   "execution_count": 6,
   "metadata": {},
   "outputs": [
    {
     "name": "stdout",
     "output_type": "stream",
     "text": [
      "+------+----------+-------------------+\n",
      "| value|percentage|           datetime|\n",
      "+------+----------+-------------------+\n",
      "|204.51|         1|2022-01-01 00:00:00|\n",
      "|171.35|         1|2022-01-01 01:00:00|\n",
      "| 172.7|         1|2022-01-01 02:00:00|\n",
      "|156.07|         1|2022-01-01 03:00:00|\n",
      "|159.08|         1|2022-01-01 04:00:00|\n",
      "|157.28|         1|2022-01-01 05:00:00|\n",
      "|158.87|         1|2022-01-01 06:00:00|\n",
      "|157.58|         1|2022-01-01 07:00:00|\n",
      "|156.18|         1|2022-01-01 08:00:00|\n",
      "|118.96|         1|2022-01-01 09:00:00|\n",
      "+------+----------+-------------------+\n",
      "only showing top 10 rows\n",
      "\n"
     ]
    }
   ],
   "source": [
    "df_yearly_prices.show(10)"
   ]
  },
  {
   "cell_type": "code",
   "execution_count": 7,
   "metadata": {},
   "outputs": [
    {
     "name": "stdout",
     "output_type": "stream",
     "text": [
      "root\n",
      " |-- value: double (nullable = true)\n",
      " |-- percentage: integer (nullable = true)\n",
      " |-- datetime: timestamp (nullable = true)\n",
      "\n"
     ]
    }
   ],
   "source": [
    "df_yearly_prices.printSchema()"
   ]
  },
  {
   "cell_type": "code",
   "execution_count": 8,
   "metadata": {},
   "outputs": [
    {
     "name": "stdout",
     "output_type": "stream",
     "text": [
      "+-----+----------+--------+\n",
      "|value|percentage|datetime|\n",
      "+-----+----------+--------+\n",
      "|    0|         0|       0|\n",
      "+-----+----------+--------+\n",
      "\n"
     ]
    }
   ],
   "source": [
    "# count the number of null values in each column\n",
    "null_values = df_yearly_prices.select([count(when(isnull(c), c)).alias(c) for c in df.columns])\n",
    "\n",
    "null_values.show()\n"
   ]
  },
  {
   "cell_type": "code",
   "execution_count": 9,
   "metadata": {},
   "outputs": [
    {
     "name": "stdout",
     "output_type": "stream",
     "text": [
      "Number of rows: 8760\n",
      "Number of columns: 3\n"
     ]
    }
   ],
   "source": [
    "# Shape of the DataFrame\n",
    "print(f'Number of rows: {df_yearly_prices.count()}')\n",
    "print(f'Number of columns: {len(df_yearly_prices.columns)}')"
   ]
  },
  {
   "cell_type": "code",
   "execution_count": 10,
   "metadata": {},
   "outputs": [
    {
     "name": "stdout",
     "output_type": "stream",
     "text": [
      "+-----+----------+--------+\n",
      "|value|percentage|datetime|\n",
      "+-----+----------+--------+\n",
      "|  739|         1|     744|\n",
      "+-----+----------+--------+\n",
      "\n"
     ]
    }
   ],
   "source": [
    "# Number of distinct values in each column\n",
    "df.select([countDistinct(col(c)).alias(c) for c in df.columns]).show()\n"
   ]
  },
  {
   "cell_type": "markdown",
   "metadata": {},
   "source": [
    "#### Feature engineering"
   ]
  },
  {
   "cell_type": "code",
   "execution_count": 11,
   "metadata": {},
   "outputs": [
    {
     "name": "stdout",
     "output_type": "stream",
     "text": [
      "+------+-----+\n",
      "| value|count|\n",
      "+------+-----+\n",
      "|319.66|    4|\n",
      "|200.68|    4|\n",
      "| 239.8|    4|\n",
      "|276.59|    4|\n",
      "| 272.6|    4|\n",
      "|277.14|    4|\n",
      "| 171.3|    4|\n",
      "|263.16|    4|\n",
      "|256.45|    4|\n",
      "| 262.3|    4|\n",
      "+------+-----+\n",
      "\n"
     ]
    }
   ],
   "source": [
    "# group by value and count the number of occurrences\n",
    "top_values = df_yearly_prices.groupBy(\"value\").agg(F.count(\"value\").alias(\"count\"))\n",
    "\n",
    "# Order the values by the count in descending order\n",
    "top_values = top_values.orderBy(F.desc(\"count\"))\n",
    "\n",
    "# Limit the number of values to 10\n",
    "top_10_values = top_values.limit(10)\n",
    "top_10_values.show()\n"
   ]
  },
  {
   "cell_type": "code",
   "execution_count": 12,
   "metadata": {},
   "outputs": [
    {
     "name": "stdout",
     "output_type": "stream",
     "text": [
      "+-----+------------------+-------------------+\n",
      "|month|         avg_price|           % growth|\n",
      "+-----+------------------+-------------------+\n",
      "|    1|285.86005376344076|               null|\n",
      "|    2|286.30842261904763| 0.1568490769185658|\n",
      "|    3|387.74535666218026|  35.42925252258513|\n",
      "|    4|268.63352777777783|-30.719085822135987|\n",
      "|    5|  259.933561827957| -3.238600193278069|\n",
      "|    6| 290.9040694444444| 11.914778298997009|\n",
      "|    7| 331.3574327956989| 13.906083688863657|\n",
      "|    8| 395.2318817204301| 19.276600613970086|\n",
      "|    9| 316.2872361111111|   -19.974260493783|\n",
      "|   10|226.72640268456377|-28.316297087336395|\n",
      "|   11|189.43786111111112| -16.44649283538929|\n",
      "|   12|206.44568548387096|  8.978049199354205|\n",
      "+-----+------------------+-------------------+\n",
      "\n"
     ]
    }
   ],
   "source": [
    "# average price per month and percentage growth compared to the previous month\n",
    "monthly_prices = df_yearly_prices.groupBy(F.month(\"datetime\").alias(\"month\")).agg(F.avg(\"value\").alias(\"avg_price\"))\n",
    "\n",
    "\n",
    "window_spec = Window.orderBy(\"month\")\n",
    "monthly_prices = monthly_prices.withColumn(\"% growth\", (F.col(\"avg_price\") - F.lag(\"avg_price\").over(window_spec)) / F.lag(\"avg_price\").over(window_spec) * 100)\n",
    "\n",
    "monthly_prices.show()"
   ]
  },
  {
   "cell_type": "code",
   "execution_count": 13,
   "metadata": {},
   "outputs": [
    {
     "name": "stdout",
     "output_type": "stream",
     "text": [
      "+----+---+---------+---------+------------------+\n",
      "|week|day|max_price|min_price|         avg_price|\n",
      "+----+---+---------+---------+------------------+\n",
      "|   1|  1|   306.97|    36.35|168.47250000000003|\n",
      "|   1|  2|   326.48|   164.71|236.62625000000003|\n",
      "|   1|  3|   332.83|   152.68| 239.9920833333333|\n",
      "|   1|  4|   408.58|   114.73|          272.3175|\n",
      "|   1|  5|   352.09|   235.25|276.80791666666664|\n",
      "|   1|  6|   422.83|    225.3|317.19958333333335|\n",
      "|   1|  7|   347.83|   199.53|267.54041666666666|\n",
      "|   2|  1|   337.73|   242.96|         275.07625|\n",
      "|   2|  2|   464.32|   220.69| 319.3666666666666|\n",
      "|   2|  3|   426.54|   252.26| 322.9820833333333|\n",
      "|   2|  4|   421.94|   232.98|           301.325|\n",
      "|   2|  5|   425.48|   240.19| 313.0195833333333|\n",
      "|   2|  6|   392.52|   250.46|298.06374999999997|\n",
      "|   2|  7|   339.66|   251.89|         281.13875|\n",
      "|   3|  1|   317.45|   234.32|260.56458333333336|\n",
      "|   3|  2|   452.94|   277.28|350.23541666666665|\n",
      "|   3|  3|   437.62|   254.54|322.42708333333337|\n",
      "|   3|  4|   420.19|   246.87|309.99208333333326|\n",
      "|   3|  5|   397.01|   224.97| 284.3604166666667|\n",
      "|   3|  6|   367.78|   206.58|270.05833333333334|\n",
      "+----+---+---------+---------+------------------+\n",
      "only showing top 20 rows\n",
      "\n"
     ]
    }
   ],
   "source": [
    "# for every week, maximum, minimum and average price per day\n",
    "weekly_prices = df_yearly_prices.groupBy(F.weekofyear(\"datetime\").alias(\"week\"), F.dayofweek(\"datetime\").alias(\"day\")).agg(F.max(\"value\").alias(\"max_price\"), F.min(\"value\").alias(\"min_price\"), F.avg(\"value\").alias(\"avg_price\"))\n",
    "weekly_daily_prices = weekly_prices.orderBy(\"week\", \"day\")\n",
    "weekly_daily_prices.show()\n",
    "\n"
   ]
  },
  {
   "cell_type": "code",
   "execution_count": 14,
   "metadata": {},
   "outputs": [
    {
     "name": "stderr",
     "output_type": "stream",
     "text": [
      "c:\\Users\\Usuario\\anaconda3\\Lib\\site-packages\\pyspark\\sql\\pandas\\conversion.py:251: FutureWarning: Passing unit-less datetime64 dtype to .astype is deprecated and will raise in a future version. Pass 'datetime64[ns]' instead\n",
      "  series = series.astype(t, copy=False)\n"
     ]
    }
   ],
   "source": [
    "# convert to csv df_yearly_prices in folder Data pandas\n",
    "df_yearly_prices.toPandas().to_csv('../Data/df_yearly_prices.csv', index=False)\n"
   ]
  },
  {
   "cell_type": "code",
   "execution_count": null,
   "metadata": {},
   "outputs": [],
   "source": [
    "# Suponiendo que 'df_yearly_prices' contiene el DataFrame que deseas guardar\n",
    "# Define la ruta donde deseas guardar el archivo CSV\n",
    "ruta_csv = '../Data/df_yearly_prices_pyspark.csv'\n",
    "\n",
    "# Escribe el DataFrame en formato CSV\n",
    "df_yearly_prices.write.csv('../Data/df_yearly_prices_pyspark.csv', header=True)\n"
   ]
  },
  {
   "cell_type": "code",
   "execution_count": null,
   "metadata": {},
   "outputs": [],
   "source": []
  }
 ],
 "metadata": {
  "kernelspec": {
   "display_name": "base",
   "language": "python",
   "name": "python3"
  },
  "language_info": {
   "codemirror_mode": {
    "name": "ipython",
    "version": 3
   },
   "file_extension": ".py",
   "mimetype": "text/x-python",
   "name": "python",
   "nbconvert_exporter": "python",
   "pygments_lexer": "ipython3",
   "version": "3.11.4"
  },
  "orig_nbformat": 4
 },
 "nbformat": 4,
 "nbformat_minor": 2
}
